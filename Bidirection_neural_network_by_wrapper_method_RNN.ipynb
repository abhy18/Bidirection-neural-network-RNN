{
  "nbformat": 4,
  "nbformat_minor": 0,
  "metadata": {
    "colab": {
      "provenance": [],
      "gpuType": "T4"
    },
    "kernelspec": {
      "name": "python3",
      "display_name": "Python 3"
    },
    "language_info": {
      "name": "python"
    },
    "accelerator": "GPU"
  },
  "cells": [
    {
      "cell_type": "code",
      "execution_count": 20,
      "metadata": {
        "id": "MJ3Kd0lFXzsZ"
      },
      "outputs": [],
      "source": [
        "import tensorflow as tf\n",
        "from tensorflow.keras.layers import Input,Dense,LSTM,Bidirectional\n",
        "from tensorflow.keras.datasets import fashion_mnist\n",
        "from tensorflow.keras.utils import to_categorical"
      ]
    },
    {
      "cell_type": "code",
      "source": [
        "(x_train,y_train1),(x_test,y_test1) = fashion_mnist.load_data()\n",
        "x_train = x_train.reshape(60000,28,28).astype('float32')/255\n",
        "x_test= x_test.reshape(10000,28,28).astype('float32')/255\n"
      ],
      "metadata": {
        "id": "j4toUb8jaB4t"
      },
      "execution_count": 21,
      "outputs": []
    },
    {
      "cell_type": "code",
      "source": [
        "y_train = to_categorical(y_train1)\n",
        "y_test = to_categorical(y_test1)\n",
        "y_test"
      ],
      "metadata": {
        "colab": {
          "base_uri": "https://localhost:8080/"
        },
        "id": "hYSYriBPa3NW",
        "outputId": "a0dbe6c4-ec64-4c45-8798-3e72eb4c5475"
      },
      "execution_count": 22,
      "outputs": [
        {
          "output_type": "execute_result",
          "data": {
            "text/plain": [
              "array([[0., 0., 0., ..., 0., 0., 1.],\n",
              "       [0., 0., 1., ..., 0., 0., 0.],\n",
              "       [0., 1., 0., ..., 0., 0., 0.],\n",
              "       ...,\n",
              "       [0., 0., 0., ..., 0., 1., 0.],\n",
              "       [0., 1., 0., ..., 0., 0., 0.],\n",
              "       [0., 0., 0., ..., 0., 0., 0.]], dtype=float32)"
            ]
          },
          "metadata": {},
          "execution_count": 22
        }
      ]
    },
    {
      "cell_type": "code",
      "source": [
        "input_shape = (28, 28)\n",
        "inputs = Input(shape = input_shape)\n",
        "ls = Bidirectional(LSTM(128))(inputs)\n",
        "output = Dense(10,activation = 'softmax')(ls)\n",
        "model = tf.keras.Model(inputs = inputs,outputs = output)"
      ],
      "metadata": {
        "id": "nwee-KYFbB2A"
      },
      "execution_count": 23,
      "outputs": []
    },
    {
      "cell_type": "code",
      "source": [],
      "metadata": {
        "id": "xiQn4X00iFVn"
      },
      "execution_count": null,
      "outputs": []
    },
    {
      "cell_type": "code",
      "source": [
        "model.summary()"
      ],
      "metadata": {
        "colab": {
          "base_uri": "https://localhost:8080/"
        },
        "id": "H5nWl-zleIdE",
        "outputId": "ded082f9-2c95-44c6-a4a5-d96d0bcfd07b"
      },
      "execution_count": 24,
      "outputs": [
        {
          "output_type": "stream",
          "name": "stdout",
          "text": [
            "Model: \"model_1\"\n",
            "_________________________________________________________________\n",
            " Layer (type)                Output Shape              Param #   \n",
            "=================================================================\n",
            " input_3 (InputLayer)        [(None, 28, 28)]          0         \n",
            "                                                                 \n",
            " bidirectional (Bidirection  (None, 256)               160768    \n",
            " al)                                                             \n",
            "                                                                 \n",
            " dense_1 (Dense)             (None, 10)                2570      \n",
            "                                                                 \n",
            "=================================================================\n",
            "Total params: 163338 (638.04 KB)\n",
            "Trainable params: 163338 (638.04 KB)\n",
            "Non-trainable params: 0 (0.00 Byte)\n",
            "_________________________________________________________________\n"
          ]
        }
      ]
    },
    {
      "cell_type": "code",
      "source": [
        "model.compile(optimizer='adam',loss = 'categorical_crossentropy',metrics = ['accuracy'])"
      ],
      "metadata": {
        "id": "pIMoLW_hcPzo"
      },
      "execution_count": 25,
      "outputs": []
    },
    {
      "cell_type": "code",
      "source": [
        "history = model.fit(x_train,y_train,validation_split=.1,epochs = 15)"
      ],
      "metadata": {
        "colab": {
          "base_uri": "https://localhost:8080/"
        },
        "id": "ipWIppdudbf6",
        "outputId": "d49701be-dfd2-41bb-c063-0498cc9087dc"
      },
      "execution_count": 26,
      "outputs": [
        {
          "output_type": "stream",
          "name": "stdout",
          "text": [
            "Epoch 1/15\n",
            "1688/1688 [==============================] - 17s 8ms/step - loss: 0.5430 - accuracy: 0.7998 - val_loss: 0.4467 - val_accuracy: 0.8373\n",
            "Epoch 2/15\n",
            "1688/1688 [==============================] - 12s 7ms/step - loss: 0.3935 - accuracy: 0.8546 - val_loss: 0.3601 - val_accuracy: 0.8663\n",
            "Epoch 3/15\n",
            "1688/1688 [==============================] - 12s 7ms/step - loss: 0.3511 - accuracy: 0.8708 - val_loss: 0.3566 - val_accuracy: 0.8645\n",
            "Epoch 4/15\n",
            "1688/1688 [==============================] - 13s 7ms/step - loss: 0.3236 - accuracy: 0.8807 - val_loss: 0.3285 - val_accuracy: 0.8743\n",
            "Epoch 5/15\n",
            "1688/1688 [==============================] - 14s 8ms/step - loss: 0.3019 - accuracy: 0.8882 - val_loss: 0.3071 - val_accuracy: 0.8863\n",
            "Epoch 6/15\n",
            "1688/1688 [==============================] - 12s 7ms/step - loss: 0.2847 - accuracy: 0.8941 - val_loss: 0.2920 - val_accuracy: 0.8867\n",
            "Epoch 7/15\n",
            "1688/1688 [==============================] - 13s 7ms/step - loss: 0.2693 - accuracy: 0.8989 - val_loss: 0.2953 - val_accuracy: 0.8912\n",
            "Epoch 8/15\n",
            "1688/1688 [==============================] - 13s 8ms/step - loss: 0.2546 - accuracy: 0.9039 - val_loss: 0.2900 - val_accuracy: 0.8905\n",
            "Epoch 9/15\n",
            "1688/1688 [==============================] - 13s 7ms/step - loss: 0.2407 - accuracy: 0.9099 - val_loss: 0.2840 - val_accuracy: 0.8967\n",
            "Epoch 10/15\n",
            "1688/1688 [==============================] - 13s 8ms/step - loss: 0.2296 - accuracy: 0.9132 - val_loss: 0.2852 - val_accuracy: 0.8940\n",
            "Epoch 11/15\n",
            "1688/1688 [==============================] - 13s 8ms/step - loss: 0.2197 - accuracy: 0.9184 - val_loss: 0.2710 - val_accuracy: 0.9022\n",
            "Epoch 12/15\n",
            "1688/1688 [==============================] - 13s 7ms/step - loss: 0.2089 - accuracy: 0.9216 - val_loss: 0.2810 - val_accuracy: 0.8987\n",
            "Epoch 13/15\n",
            "1688/1688 [==============================] - 12s 7ms/step - loss: 0.1993 - accuracy: 0.9250 - val_loss: 0.2782 - val_accuracy: 0.8982\n",
            "Epoch 14/15\n",
            "1688/1688 [==============================] - 13s 8ms/step - loss: 0.1889 - accuracy: 0.9297 - val_loss: 0.2961 - val_accuracy: 0.8988\n",
            "Epoch 15/15\n",
            "1688/1688 [==============================] - 13s 7ms/step - loss: 0.1804 - accuracy: 0.9319 - val_loss: 0.2796 - val_accuracy: 0.9017\n"
          ]
        }
      ]
    },
    {
      "cell_type": "code",
      "source": [
        "import matplotlib.pyplot as plt\n",
        "plt.plot(history.history['accuracy'])\n",
        "plt.plot(history.history['val_accuracy'])\n",
        "plt.xlabel('epochs')\n",
        "plt.ylabel('accuracy')"
      ],
      "metadata": {
        "colab": {
          "base_uri": "https://localhost:8080/",
          "height": 466
        },
        "id": "t4g7uKSKdshO",
        "outputId": "49052ab6-c5df-478a-cb1a-c83981b7ef42"
      },
      "execution_count": 27,
      "outputs": [
        {
          "output_type": "execute_result",
          "data": {
            "text/plain": [
              "Text(0, 0.5, 'accuracy')"
            ]
          },
          "metadata": {},
          "execution_count": 27
        },
        {
          "output_type": "display_data",
          "data": {
            "text/plain": [
              "<Figure size 640x480 with 1 Axes>"
            ],
            "image/png": "[encoded data removed]"
          },
          "metadata": {}
        }
      ]
    },
    {
      "cell_type": "code",
      "source": [
        "import numpy as np\n",
        "y_pred = model.predict(x_test)\n",
        "y_pred = np.argmax(y_pred,axis =1)\n",
        "y_pred"
      ],
      "metadata": {
        "colab": {
          "base_uri": "https://localhost:8080/"
        },
        "id": "lN1579PegxKv",
        "outputId": "a4d3ba2a-5847-4795-bf83-4cc67df5ea0c"
      },
      "execution_count": 28,
      "outputs": [
        {
          "output_type": "stream",
          "name": "stdout",
          "text": [
            "313/313 [==============================] - 1s 3ms/step\n"
          ]
        },
        {
          "output_type": "execute_result",
          "data": {
            "text/plain": [
              "array([9, 2, 1, ..., 8, 1, 5])"
            ]
          },
          "metadata": {},
          "execution_count": 28
        }
      ]
    },
    {
      "cell_type": "code",
      "source": [
        "from sklearn.metrics import accuracy_score\n",
        "accuracy_score(y_pred,y_test1)"
      ],
      "metadata": {
        "colab": {
          "base_uri": "https://localhost:8080/"
        },
        "id": "z38ovTq0hC6b",
        "outputId": "1ce40566-78ca-414a-965f-cb62d32cd8df"
      },
      "execution_count": 29,
      "outputs": [
        {
          "output_type": "execute_result",
          "data": {
            "text/plain": [
              "0.8985"
            ]
          },
          "metadata": {},
          "execution_count": 29
        }
      ]
    },
    {
      "cell_type": "code",
      "source": [],
      "metadata": {
        "id": "ldpo5475hRTK"
      },
      "execution_count": 29,
      "outputs": []
    }
  ]
}